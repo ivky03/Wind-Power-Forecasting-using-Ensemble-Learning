{
 "cells": [
  {
   "cell_type": "code",
   "execution_count": 1,
   "id": "582dc961",
   "metadata": {},
   "outputs": [],
   "source": [
    "import pandas as pd\n",
    "import numpy as np\n",
    "import xgboost as xgb\n",
    "import matplotlib.pyplot as plt\n",
    "from sklearn.model_selection import train_test_split\n",
    "import torch\n",
    "import torch.nn as nn\n",
    "from torch.utils.data import Dataset, DataLoader\n",
    "import keras_tuner\n",
    "\n",
    "train_data = pd.read_csv('train_data.csv')\n",
    "test_data = pd.read_csv('test_data.csv')\n",
    "val_data = pd.read_csv('val_data.csv')"
   ]
  },
  {
   "cell_type": "code",
   "execution_count": 2,
   "id": "d940e9fb",
   "metadata": {},
   "outputs": [],
   "source": [
    "patv_train = train_data['Patv'].tolist()\n",
    "patv_test = test_data['Patv'].tolist()\n",
    "patv_val= val_data['Patv'].tolist()\n",
    "df_train = train_data.drop(['Patv'],axis=1)\n",
    "df_test = test_data.drop(['Patv'],axis=1)\n",
    "df_val=val_data.drop(['Patv'],axis=1)"
   ]
  },
  {
   "cell_type": "code",
   "execution_count": 3,
   "id": "1df1c731",
   "metadata": {},
   "outputs": [],
   "source": [
    "def to_sequences(seq_size, obs):\n",
    "    x = []\n",
    "    y = []\n",
    "\n",
    "    for i in range(len(obs)-SEQUENCE_SIZE):\n",
    "        #print(i)\n",
    "        window = obs[i:(i+SEQUENCE_SIZE)]\n",
    "        after_window = obs[i+SEQUENCE_SIZE]\n",
    "        window = [[x] for x in window]\n",
    "        #print(\"{} - {}\".format(window,after_window))\n",
    "        x.append(window)\n",
    "        y.append(after_window)\n",
    "        \n",
    "    return np.array(x),np.array(y)\n"
   ]
  },
  {
   "cell_type": "code",
   "execution_count": 4,
   "id": "e8bc84e8",
   "metadata": {},
   "outputs": [
    {
     "name": "stdout",
     "output_type": "stream",
     "text": [
      "Shape of training set: (2836502, 10, 1)\n",
      "Shape of test set: (945494, 10, 1)\n",
      "Shape of validation set: (945494, 10, 1)\n"
     ]
    }
   ],
   "source": [
    "SEQUENCE_SIZE = 10\n",
    "x_train,y_train = to_sequences(SEQUENCE_SIZE,patv_train)\n",
    "x_test,y_test = to_sequences(SEQUENCE_SIZE,patv_test)\n",
    "x_val,y_val = to_sequences(SEQUENCE_SIZE,patv_val)\n",
    "\n",
    "print(\"Shape of training set: {}\".format(x_train.shape))\n",
    "print(\"Shape of test set: {}\".format(x_test.shape))\n",
    "print(\"Shape of validation set: {}\".format(x_val.shape))"
   ]
  },
  {
   "cell_type": "code",
   "execution_count": 5,
   "id": "b67bf5a9",
   "metadata": {},
   "outputs": [],
   "source": [
    "from tensorflow import keras\n",
    "from tensorflow.keras import layers\n",
    "\n",
    "def transformer_encoder(inputs, head_size, num_heads, ff_dim, dropout=0):\n",
    "    # Normalization and Attention\n",
    "    x = layers.LayerNormalization(epsilon=1e-6)(inputs)\n",
    "    x = layers.MultiHeadAttention(\n",
    "        key_dim=head_size, num_heads=num_heads, dropout=dropout\n",
    "    )(x, x)\n",
    "    x = layers.Dropout(dropout)(x)\n",
    "    res = x + inputs\n",
    "\n",
    "    # Feed Forward Part\n",
    "    x = layers.LayerNormalization(epsilon=1e-6)(res)\n",
    "    x = layers.Conv1D(filters=ff_dim, kernel_size=1, activation=\"relu\")(x)\n",
    "    x = layers.Dropout(dropout)(x)\n",
    "    x = layers.Conv1D(filters=inputs.shape[-1], kernel_size=1)(x)\n",
    "    return x + res"
   ]
  },
  {
   "cell_type": "code",
   "execution_count": 6,
   "id": "51e786eb",
   "metadata": {},
   "outputs": [],
   "source": [
    "def build_model(\n",
    "    input_shape,\n",
    "    head_size,\n",
    "    num_heads,\n",
    "    ff_dim,\n",
    "    num_transformer_blocks,\n",
    "    mlp_units,\n",
    "    dropout=0,\n",
    "    mlp_dropout=0,\n",
    "):\n",
    "    inputs = keras.Input(shape=input_shape)\n",
    "    x = inputs\n",
    "    for _ in range(num_transformer_blocks):\n",
    "        x = transformer_encoder(x, head_size, num_heads, ff_dim, dropout)\n",
    "\n",
    "    x = layers.GlobalAveragePooling1D(data_format=\"channels_first\")(x)\n",
    "    for dim in mlp_units:\n",
    "        x = layers.Dense(dim, activation=\"relu\")(x)\n",
    "        x = layers.Dropout(mlp_dropout)(x)\n",
    "    outputs = layers.Dense(1)(x)\n",
    "    return keras.Model(inputs, outputs)\n"
   ]
  },
  {
   "cell_type": "code",
   "execution_count": 7,
   "id": "12c8ab8a",
   "metadata": {},
   "outputs": [],
   "source": [
    "input_shape = x_train.shape[1:]\n",
    "mlp_units=[128]\n",
    "\n",
    "def create_model(hp):\n",
    "    hp_head_size = 128\n",
    "    hp_num_heads = 4\n",
    "    hp_ff_dim = 16\n",
    "    hp_num_transformer_blocks = 6\n",
    "    hp_dropout = 0.2\n",
    "    hp_mlp_dropout = 0.3\n",
    "    hp_learning_rate = 1e-4\n",
    "    \n",
    "    model = build_model(\n",
    "        input_shape,\n",
    "        head_size=hp_head_size,\n",
    "        num_heads=hp_num_heads,\n",
    "        ff_dim=hp_ff_dim,\n",
    "        num_transformer_blocks=hp_num_transformer_blocks,\n",
    "        mlp_units=mlp_units,\n",
    "        dropout=hp_dropout,\n",
    "        mlp_dropout=hp_mlp_dropout,\n",
    "    )\n",
    "    model.compile(\n",
    "        loss=\"mean_squared_error\",\n",
    "        optimizer=keras.optimizers.Adam(learning_rate=hp_learning_rate),\n",
    "    )\n",
    "    return model"
   ]
  },
  {
   "cell_type": "code",
   "execution_count": 8,
   "id": "c41f367e",
   "metadata": {},
   "outputs": [
    {
     "name": "stdout",
     "output_type": "stream",
     "text": [
      "Trial 1 Complete [16h 02m 16s]\n",
      "val_loss: 11021.337890625\n",
      "\n",
      "Best val_loss So Far: 11021.337890625\n",
      "Total elapsed time: 16h 02m 16s\n",
      "INFO:tensorflow:Oracle triggered exit\n"
     ]
    }
   ],
   "source": [
    "tuner = keras_tuner.RandomSearch(\n",
    "    create_model,\n",
    "    objective='val_loss',\n",
    "    overwrite=True,\n",
    "    max_trials=1)\n",
    "\n",
    "tuner.search(x_train,y_train , epochs=25, validation_data=(x_val, y_val))"
   ]
  },
  {
   "cell_type": "code",
   "execution_count": 9,
   "id": "3eac0a06",
   "metadata": {},
   "outputs": [
    {
     "name": "stdout",
     "output_type": "stream",
     "text": [
      "Results summary\n",
      "Results in .\\untitled_project\n",
      "Showing 1 best trials\n",
      "Objective(name=\"val_loss\", direction=\"min\")\n",
      "\n",
      "Trial 0 summary\n",
      "Hyperparameters:\n",
      "default configuration\n",
      "Score: 11021.337890625\n",
      "None\n"
     ]
    }
   ],
   "source": [
    "best_model = tuner.get_best_models()[0]\n",
    "print(tuner.results_summary(num_trials=1))"
   ]
  },
  {
   "cell_type": "code",
   "execution_count": 10,
   "id": "f37ce527",
   "metadata": {},
   "outputs": [],
   "source": [
    "# model.evaluate(x_test, y_test, verbose=1)\n",
    "\n",
    "# from sklearn import metrics\n",
    "\n",
    "# pred = model.predict(x_test)\n",
    "# score = np.sqrt(metrics.mean_squared_error(pred,y_test))\n",
    "# print(\"Score (RMSE): {}\".format(score))"
   ]
  },
  {
   "cell_type": "code",
   "execution_count": 11,
   "id": "c976c697",
   "metadata": {},
   "outputs": [
    {
     "name": "stdout",
     "output_type": "stream",
     "text": [
      "29547/29547 [==============================] - 248s 8ms/step\n"
     ]
    },
    {
     "data": {
      "text/plain": [
       "(        Predictions  Actuals\n",
       " 0         61.253624    55.13\n",
       " 1         61.253624    55.13\n",
       " 2         61.253624    55.13\n",
       " 3         61.253624    55.13\n",
       " 4         61.253624    55.13\n",
       " ...             ...      ...\n",
       " 945489   811.097839   601.44\n",
       " 945490   582.576111   673.79\n",
       " 945491   669.370972   999.36\n",
       " 945492   969.170105  1100.89\n",
       " 945493  1052.929932  1181.49\n",
       " \n",
       " [945494 rows x 2 columns],\n",
       " 11785.650213771876)"
      ]
     },
     "execution_count": 11,
     "metadata": {},
     "output_type": "execute_result"
    },
    {
     "data": {
      "image/png": "[encoded data removed]",
      "text/plain": [
       "<Figure size 640x480 with 1 Axes>"
      ]
     },
     "metadata": {},
     "output_type": "display_data"
    }
   ],
   "source": [
    "from sklearn.metrics import mean_squared_error as mse\n",
    "def plot_predictions1(model, X, y, start=0, end=100):\n",
    "    predictions = model.predict(X).flatten()\n",
    "    df = pd.DataFrame(data={'Predictions':predictions, 'Actuals':y})\n",
    "    plt.plot(df['Predictions'][start:end])\n",
    "    plt.plot(df['Actuals'][start:end])\n",
    "    return df, mse(y, predictions)\n",
    "\n",
    "plot_predictions1(best_model, x_test, y_test)"
   ]
  },
  {
   "cell_type": "code",
   "execution_count": 12,
   "id": "6e595287",
   "metadata": {},
   "outputs": [
    {
     "name": "stdout",
     "output_type": "stream",
     "text": [
      "29547/29547 [==============================] - 408s 14ms/step\n"
     ]
    }
   ],
   "source": [
    "y_p = best_model.predict(x_test)\n",
    "\n",
    "# convert array into dataframe\n",
    "DF = pd.DataFrame(y_p)\n",
    "\n",
    "# save the dataframe as a csv file\n",
    "DF.to_csv(\"Transformer_Output.csv\")"
   ]
  },
  {
   "cell_type": "code",
   "execution_count": null,
   "id": "6b539ea9",
   "metadata": {},
   "outputs": [],
   "source": []
  }
 ],
 "metadata": {
  "kernelspec": {
   "display_name": "Python 3 (ipykernel)",
   "language": "python",
   "name": "python3"
  },
  "language_info": {
   "codemirror_mode": {
    "name": "ipython",
    "version": 3
   },
   "file_extension": ".py",
   "mimetype": "text/x-python",
   "name": "python",
   "nbconvert_exporter": "python",
   "pygments_lexer": "ipython3",
   "version": "3.10.9"
  }
 },
 "nbformat": 4,
 "nbformat_minor": 5
}
