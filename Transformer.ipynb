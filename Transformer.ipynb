{
 "cells": [
  {
   "cell_type": "code",
   "execution_count": 1,
   "id": "582dc961",
   "metadata": {},
   "outputs": [],
   "source": [
    "import pandas as pd\n",
    "import numpy as np\n",
    "import xgboost as xgb\n",
    "import matplotlib.pyplot as plt\n",
    "from sklearn.model_selection import train_test_split\n",
    "import torch\n",
    "import torch.nn as nn\n",
    "from torch.utils.data import Dataset, DataLoader\n",
    "import keras_tuner\n",
    "\n",
    "train_data = pd.read_csv('train_data.csv')\n",
    "test_data = pd.read_csv('test_data.csv')\n",
    "val_data = pd.read_csv('val_data.csv')"
   ]
  },
  {
   "cell_type": "code",
   "execution_count": 2,
   "id": "d940e9fb",
   "metadata": {},
   "outputs": [],
   "source": [
    "patv_train = train_data['Patv'].tolist()\n",
    "patv_test = test_data['Patv'].tolist()\n",
    "patv_val= val_data['Patv'].tolist()\n",
    "df_train = train_data.drop(['Patv'],axis=1)\n",
    "df_test = test_data.drop(['Patv'],axis=1)\n",
    "df_val=val_data.drop(['Patv'],axis=1)"
   ]
  },
  {
   "cell_type": "code",
   "execution_count": 3,
   "id": "1df1c731",
   "metadata": {},
   "outputs": [],
   "source": [
    "def to_sequences(seq_size, obs):\n",
    "    x = []\n",
    "    y = []\n",
    "\n",
    "    for i in range(len(obs)-SEQUENCE_SIZE):\n",
    "        #print(i)\n",
    "        window = obs[i:(i+SEQUENCE_SIZE)]\n",
    "        after_window = obs[i+SEQUENCE_SIZE]\n",
    "        window = [[x] for x in window]\n",
    "        #print(\"{} - {}\".format(window,after_window))\n",
    "        x.append(window)\n",
    "        y.append(after_window)\n",
    "        \n",
    "    return np.array(x),np.array(y)\n"
   ]
  },
  {
   "cell_type": "code",
   "execution_count": 4,
   "id": "e8bc84e8",
   "metadata": {},
   "outputs": [
    {
     "name": "stdout",
     "output_type": "stream",
     "text": [
      "Shape of training set: (2836502, 10, 1)\n",
      "Shape of test set: (945494, 10, 1)\n",
      "Shape of validation set: (945494, 10, 1)\n"
     ]
    }
   ],
   "source": [
    "SEQUENCE_SIZE = 10\n",
    "x_train,y_train = to_sequences(SEQUENCE_SIZE,patv_train)\n",
    "x_test,y_test = to_sequences(SEQUENCE_SIZE,patv_test)\n",
    "x_val,y_val = to_sequences(SEQUENCE_SIZE,patv_val)\n",
    "\n",
    "print(\"Shape of training set: {}\".format(x_train.shape))\n",
    "print(\"Shape of test set: {}\".format(x_test.shape))\n",
    "print(\"Shape of validation set: {}\".format(x_val.shape))"
   ]
  },
  {
   "cell_type": "code",
   "execution_count": 5,
   "id": "b67bf5a9",
   "metadata": {},
   "outputs": [],
   "source": [
    "from tensorflow import keras\n",
    "from tensorflow.keras import layers\n",
    "\n",
    "def transformer_encoder(inputs, head_size, num_heads, ff_dim, dropout=0):\n",
    "    # Normalization and Attention\n",
    "    x = layers.LayerNormalization(epsilon=1e-6)(inputs)\n",
    "    x = layers.MultiHeadAttention(\n",
    "        key_dim=head_size, num_heads=num_heads, dropout=dropout\n",
    "    )(x, x)\n",
    "    x = layers.Dropout(dropout)(x)\n",
    "    res = x + inputs\n",
    "\n",
    "    # Feed Forward Part\n",
    "    x = layers.LayerNormalization(epsilon=1e-6)(res)\n",
    "    x = layers.Conv1D(filters=ff_dim, kernel_size=1, activation=\"relu\")(x)\n",
    "    x = layers.Dropout(dropout)(x)\n",
    "    x = layers.Conv1D(filters=inputs.shape[-1], kernel_size=1)(x)\n",
    "    return x + res"
   ]
  },
  {
   "cell_type": "code",
   "execution_count": 6,
   "id": "51e786eb",
   "metadata": {},
   "outputs": [],
   "source": [
    "def build_model(\n",
    "    input_shape,\n",
    "    head_size,\n",
    "    num_heads,\n",
    "    ff_dim,\n",
    "    num_transformer_blocks,\n",
    "    mlp_units,\n",
    "    dropout=0,\n",
    "    mlp_dropout=0,\n",
    "):\n",
    "    inputs = keras.Input(shape=input_shape)\n",
    "    x = inputs\n",
    "    for _ in range(num_transformer_blocks):\n",
    "        x = transformer_encoder(x, head_size, num_heads, ff_dim, dropout)\n",
    "\n",
    "    x = layers.GlobalAveragePooling1D(data_format=\"channels_first\")(x)\n",
    "    for dim in mlp_units:\n",
    "        x = layers.Dense(dim, activation=\"relu\")(x)\n",
    "        x = layers.Dropout(mlp_dropout)(x)\n",
    "    outputs = layers.Dense(1)(x)\n",
    "    return keras.Model(inputs, outputs)\n"
   ]
  },
  {
   "cell_type": "code",
   "execution_count": 7,
   "id": "12c8ab8a",
   "metadata": {},
   "outputs": [],
   "source": [
    "input_shape = x_train.shape[1:]\n",
    "mlp_units=[128]\n",
    "\n",
    "def create_model(hp):\n",
    "    hp_head_size = hp.Choice('head_size',values=[128, 256, 512])\n",
    "    hp_num_heads = hp.Choice('num_heads',values=[2, 4, 8])\n",
    "    hp_ff_dim = hp.Choice('ff_dim',values=[4, 8, 16])\n",
    "    hp_num_transformer_blocks = hp.Choice('num_transformer_blocks',values=[2, 4, 6])\n",
    "    hp_dropout = hp.Choice('dropout',values= [0.1, 0.2, 0.3])\n",
    "    hp_mlp_dropout = hp.Choice('mlp_dropout',values=[0.2, 0.3,0.4])\n",
    "    hp_learning_rate = hp.Choice('learning_rate', values=[1e-2, 1e-3, 1e-4])\n",
    "    \n",
    "    model = build_model(\n",
    "        input_shape,\n",
    "        head_size=hp_head_size,\n",
    "        num_heads=hp_num_heads,\n",
    "        ff_dim=hp_ff_dim,\n",
    "        num_transformer_blocks=hp_num_transformer_blocks,\n",
    "        mlp_units=mlp_units,\n",
    "        dropout=hp_dropout,\n",
    "        mlp_dropout=hp_mlp_dropout,\n",
    "    )\n",
    "    model.compile(\n",
    "        loss=\"mean_squared_error\",\n",
    "        optimizer=keras.optimizers.Adam(learning_rate=hp_learning_rate),\n",
    "    )\n",
    "    return model"
   ]
  },
  {
   "cell_type": "code",
   "execution_count": null,
   "id": "c41f367e",
   "metadata": {},
   "outputs": [
    {
     "name": "stdout",
     "output_type": "stream",
     "text": [
      "Trial 5 Complete [2d 11h 44m 59s]\n",
      "val_loss: 11099.94140625\n",
      "\n",
      "Best val_loss So Far: 11027.201171875\n",
      "Total elapsed time: 6d 04h 01m 09s\n",
      "\n",
      "Search: Running Trial #6\n",
      "\n",
      "Value             |Best Value So Far |Hyperparameter\n",
      "256               |128               |head_size\n",
      "2                 |4                 |num_heads\n",
      "8                 |16                |ff_dim\n",
      "2                 |6                 |num_transformer_blocks\n",
      "0.3               |0.2               |dropout\n",
      "0.2               |0.3               |mlp_dropout\n",
      "0.001             |0.0001            |learning_rate\n",
      "\n",
      "Epoch 1/25\n",
      "88641/88641 [==============================] - 3962s 45ms/step - loss: 14645.8867 - val_loss: 11471.6709\n",
      "Epoch 2/25\n",
      "88641/88641 [==============================] - 3886s 44ms/step - loss: 14427.7852 - val_loss: 11176.6143\n",
      "Epoch 3/25\n",
      "88641/88641 [==============================] - 3737s 42ms/step - loss: 14355.8652 - val_loss: 11158.0771\n",
      "Epoch 4/25\n",
      "88641/88641 [==============================] - 3730s 42ms/step - loss: 14294.8311 - val_loss: 11130.1904\n",
      "Epoch 5/25\n",
      "88641/88641 [==============================] - 3684s 42ms/step - loss: 14277.6240 - val_loss: 11158.9170\n",
      "Epoch 6/25\n",
      "88641/88641 [==============================] - 3661s 41ms/step - loss: 14256.0508 - val_loss: 11155.2900\n",
      "Epoch 7/25\n",
      "88641/88641 [==============================] - 3664s 41ms/step - loss: 14234.9092 - val_loss: 11389.8545\n",
      "Epoch 8/25\n",
      "88641/88641 [==============================] - 3656s 41ms/step - loss: 14220.2217 - val_loss: 11502.7588\n",
      "Epoch 9/25\n",
      "88641/88641 [==============================] - 3627s 41ms/step - loss: 14194.9443 - val_loss: 11253.0029\n",
      "Epoch 10/25\n",
      "88641/88641 [==============================] - 3550s 40ms/step - loss: 14172.8350 - val_loss: 11107.5527\n",
      "Epoch 11/25\n",
      "88641/88641 [==============================] - 3639s 41ms/step - loss: 14155.4961 - val_loss: 11166.4033\n",
      "Epoch 12/25\n",
      "88641/88641 [==============================] - 3665s 41ms/step - loss: 14157.2783 - val_loss: 11770.8047\n",
      "Epoch 13/25\n",
      "88641/88641 [==============================] - 3654s 41ms/step - loss: 14113.9453 - val_loss: 11206.5918\n",
      "Epoch 14/25\n",
      "88641/88641 [==============================] - 3638s 41ms/step - loss: 14102.9043 - val_loss: 11221.7002\n",
      "Epoch 15/25\n",
      "88641/88641 [==============================] - 3639s 41ms/step - loss: 14104.8105 - val_loss: 11344.5195\n",
      "Epoch 16/25\n",
      "88641/88641 [==============================] - 3503s 40ms/step - loss: 14103.7949 - val_loss: 11308.3076\n",
      "Epoch 17/25\n",
      "42909/88641 [=============>................] - ETA: 25:04 - loss: 14150.0674"
     ]
    }
   ],
   "source": [
    "tuner = keras_tuner.RandomSearch(\n",
    "    create_model,\n",
    "    objective='val_loss',\n",
    "    overwrite=True,\n",
    "    max_trials=6)\n",
    "\n",
    "tuner.search(x_train,y_train , epochs=25, validation_data=(x_val, y_val))"
   ]
  },
  {
   "cell_type": "code",
   "execution_count": null,
   "id": "3eac0a06",
   "metadata": {},
   "outputs": [],
   "source": [
    "best_model = tuner.get_best_models()[0]\n",
    "print(tuner.results_summary(num_trials=1))"
   ]
  },
  {
   "cell_type": "code",
   "execution_count": null,
   "id": "f37ce527",
   "metadata": {},
   "outputs": [],
   "source": [
    "# model.evaluate(x_test, y_test, verbose=1)\n",
    "\n",
    "# from sklearn import metrics\n",
    "\n",
    "# pred = model.predict(x_test)\n",
    "# score = np.sqrt(metrics.mean_squared_error(pred,y_test))\n",
    "# print(\"Score (RMSE): {}\".format(score))"
   ]
  },
  {
   "cell_type": "code",
   "execution_count": null,
   "id": "c976c697",
   "metadata": {},
   "outputs": [],
   "source": [
    "from sklearn.metrics import mean_squared_error as mse\n",
    "def plot_predictions1(model, X, y, start=0, end=100):\n",
    "    predictions = model.predict(X).flatten()\n",
    "    df = pd.DataFrame(data={'Predictions':predictions, 'Actuals':y})\n",
    "    plt.plot(df['Predictions'][start:end])\n",
    "    plt.plot(df['Actuals'][start:end])\n",
    "    return df, mse(y, predictions)\n",
    "\n",
    "plot_predictions1(best_model, x_test, y_test)"
   ]
  },
  {
   "cell_type": "code",
   "execution_count": null,
   "id": "6e595287",
   "metadata": {},
   "outputs": [],
   "source": [
    "y_p = best_model.predict(x_test)\n",
    "\n",
    "# convert array into dataframe\n",
    "DF = pd.DataFrame(y_p)\n",
    "\n",
    "# save the dataframe as a csv file\n",
    "DF.to_csv(\"Transformer_Output.csv\")"
   ]
  },
  {
   "cell_type": "code",
   "execution_count": null,
   "id": "6b539ea9",
   "metadata": {},
   "outputs": [],
   "source": []
  }
 ],
 "metadata": {
  "kernelspec": {
   "display_name": "Python 3 (ipykernel)",
   "language": "python",
   "name": "python3"
  },
  "language_info": {
   "codemirror_mode": {
    "name": "ipython",
    "version": 3
   },
   "file_extension": ".py",
   "mimetype": "text/x-python",
   "name": "python",
   "nbconvert_exporter": "python",
   "pygments_lexer": "ipython3",
   "version": "3.10.9"
  }
 },
 "nbformat": 4,
 "nbformat_minor": 5
}
