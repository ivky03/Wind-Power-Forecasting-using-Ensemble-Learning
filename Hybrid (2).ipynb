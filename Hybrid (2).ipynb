{
 "cells": [
  {
   "cell_type": "code",
   "execution_count": 1,
   "id": "095ec46e",
   "metadata": {},
   "outputs": [],
   "source": [
    "import pandas as pd\n",
    "import numpy as np\n",
    "import xgboost as xgb\n",
    "import matplotlib.pyplot as plt\n",
    "from sklearn.model_selection import train_test_split\n",
    "import torch\n",
    "import torch.nn as nn\n",
    "from torch.utils.data import Dataset, DataLoader\n",
    "\n",
    "\n",
    "df=pd.read_csv(\"train_data.csv\")\n",
    "Y_train=df['Patv']\n",
    "df1=pd.read_csv(\"val_data.csv\")\n",
    "Y_val=df1['Patv']\n",
    "df2=pd.read_csv(\"test_data.csv\")\n",
    "Y_test=df2['Patv']\n",
    "X2_train=df.drop(['Patv'],axis=1)\n",
    "X2_val=df1.drop(['Patv'],axis=1)\n",
    "X2_test=df2.drop(['Patv'],axis=1)"
   ]
  },
  {
   "cell_type": "code",
   "execution_count": 2,
   "id": "fe7c3caf",
   "metadata": {},
   "outputs": [
    {
     "name": "stdout",
     "output_type": "stream",
     "text": [
      "Train set shape (2836512, 3, 8, 1)\n",
      "Validation set shape (945504, 3, 8, 1)\n"
     ]
    }
   ],
   "source": [
    "X2_train_series = X2_train.values.reshape((X2_train.shape[0], X2_train.shape[1], 1))\n",
    "X2_test_series = X2_test.values.reshape((X2_test.shape[0], X2_test.shape[1], 1))\n",
    "X2_valid_series = X2_val.values.reshape((X2_val.shape[0], X2_val.shape[1], 1))\n",
    "\n",
    "subsequences = 3\n",
    "timesteps = X2_train.shape[1]//subsequences\n",
    "X2_train_series_sub = X2_train_series.reshape((X2_train_series.shape[0], subsequences, timesteps, 1))\n",
    "X2_test_series_sub = X2_test_series.reshape((X2_test_series.shape[0], subsequences, timesteps, 1))\n",
    "X2_valid_series_sub = X2_valid_series.reshape((X2_valid_series.shape[0], subsequences, timesteps, 1))\n",
    "print('Train set shape', X2_train_series_sub.shape)\n",
    "print('Validation set shape', X2_valid_series_sub.shape)"
   ]
  },
  {
   "cell_type": "code",
   "execution_count": 3,
   "id": "199630d9",
   "metadata": {},
   "outputs": [],
   "source": [
    "from tensorflow.keras.optimizers import Adam\n",
    "from tensorflow.keras.models import Sequential\n",
    "from tensorflow.keras.layers import *\n",
    "from tensorflow.keras.callbacks import ModelCheckpoint\n",
    "from tensorflow.keras.losses import MeanSquaredError\n",
    "from tensorflow.keras.metrics import RootMeanSquaredError\n",
    "from tensorflow.keras.optimizers import Adam\n",
    "\n",
    "model_cnn_lstm = Sequential()\n",
    "model_cnn_lstm.add(TimeDistributed(Conv1D(filters=64, kernel_size=1, activation='relu'), input_shape=(None, X2_train_series_sub.shape[2], X2_train_series_sub.shape[3])))\n",
    "model_cnn_lstm.add(TimeDistributed(MaxPooling1D(pool_size=2)))\n",
    "model_cnn_lstm.add(TimeDistributed(Flatten()))\n",
    "model_cnn_lstm.add(LSTM(64, activation='relu'))\n",
    "model_cnn_lstm.add(Dense(1))\n",
    "model_cnn_lstm.compile(loss='mse', optimizer='adam')"
   ]
  },
  {
   "cell_type": "code",
   "execution_count": 4,
   "id": "0ce493c6",
   "metadata": {},
   "outputs": [
    {
     "name": "stdout",
     "output_type": "stream",
     "text": [
      "Epoch 1/75\n",
      "88641/88641 - 411s - loss: 9347.0508 - val_loss: 9746.7002 - 411s/epoch - 5ms/step\n",
      "Epoch 2/75\n",
      "88641/88641 - 404s - loss: 6955.2993 - val_loss: 10171.5762 - 404s/epoch - 5ms/step\n",
      "Epoch 3/75\n",
      "88641/88641 - 382s - loss: 6603.3174 - val_loss: 9326.8203 - 382s/epoch - 4ms/step\n",
      "Epoch 4/75\n",
      "88641/88641 - 399s - loss: 6422.3804 - val_loss: 9846.3047 - 399s/epoch - 5ms/step\n",
      "Epoch 5/75\n",
      "88641/88641 - 399s - loss: 6259.2695 - val_loss: 9614.4941 - 399s/epoch - 5ms/step\n",
      "Epoch 6/75\n",
      "88641/88641 - 396s - loss: 6146.6274 - val_loss: 10106.6094 - 396s/epoch - 4ms/step\n",
      "Epoch 7/75\n",
      "88641/88641 - 399s - loss: 6100.6660 - val_loss: 9713.1602 - 399s/epoch - 5ms/step\n",
      "Epoch 8/75\n",
      "88641/88641 - 398s - loss: 6007.8315 - val_loss: 13358.5508 - 398s/epoch - 4ms/step\n",
      "Epoch 9/75\n",
      "88641/88641 - 398s - loss: 5967.1680 - val_loss: 9558.3945 - 398s/epoch - 4ms/step\n",
      "Epoch 10/75\n",
      "88641/88641 - 392s - loss: 5893.3584 - val_loss: 9791.7246 - 392s/epoch - 4ms/step\n",
      "Epoch 11/75\n",
      "88641/88641 - 388s - loss: 5924.3853 - val_loss: 8996.4023 - 388s/epoch - 4ms/step\n",
      "Epoch 12/75\n",
      "88641/88641 - 388s - loss: 5823.8276 - val_loss: 9189.8799 - 388s/epoch - 4ms/step\n",
      "Epoch 13/75\n",
      "88641/88641 - 364s - loss: 5785.7100 - val_loss: 9660.5508 - 364s/epoch - 4ms/step\n",
      "Epoch 14/75\n",
      "88641/88641 - 362s - loss: 5767.5366 - val_loss: 9383.9521 - 362s/epoch - 4ms/step\n",
      "Epoch 15/75\n",
      "88641/88641 - 361s - loss: 5790.3521 - val_loss: 9747.3242 - 361s/epoch - 4ms/step\n",
      "Epoch 16/75\n",
      "88641/88641 - 365s - loss: 5694.4023 - val_loss: 9426.9668 - 365s/epoch - 4ms/step\n",
      "Epoch 17/75\n",
      "88641/88641 - 365s - loss: 5697.7407 - val_loss: 9353.0498 - 365s/epoch - 4ms/step\n",
      "Epoch 18/75\n",
      "88641/88641 - 351s - loss: 5655.6201 - val_loss: 9229.7334 - 351s/epoch - 4ms/step\n",
      "Epoch 19/75\n",
      "88641/88641 - 359s - loss: 5611.2749 - val_loss: 9789.6963 - 359s/epoch - 4ms/step\n",
      "Epoch 20/75\n",
      "88641/88641 - 366s - loss: 5589.7002 - val_loss: 9311.3105 - 366s/epoch - 4ms/step\n",
      "Epoch 21/75\n",
      "88641/88641 - 364s - loss: 5600.6123 - val_loss: 10365.7715 - 364s/epoch - 4ms/step\n",
      "Epoch 22/75\n",
      "88641/88641 - 366s - loss: 5585.2422 - val_loss: 9429.8779 - 366s/epoch - 4ms/step\n",
      "Epoch 23/75\n",
      "88641/88641 - 367s - loss: 5557.7319 - val_loss: 9626.1865 - 367s/epoch - 4ms/step\n",
      "Epoch 24/75\n",
      "88641/88641 - 363s - loss: 5551.1646 - val_loss: 9425.2100 - 363s/epoch - 4ms/step\n",
      "Epoch 25/75\n",
      "88641/88641 - 361s - loss: 5516.4102 - val_loss: 9911.1006 - 361s/epoch - 4ms/step\n",
      "Epoch 26/75\n",
      "88641/88641 - 345s - loss: 5532.2998 - val_loss: 9761.3789 - 345s/epoch - 4ms/step\n",
      "Epoch 27/75\n",
      "88641/88641 - 363s - loss: 5509.9131 - val_loss: 9082.2559 - 363s/epoch - 4ms/step\n",
      "Epoch 28/75\n",
      "88641/88641 - 361s - loss: 5484.5762 - val_loss: 9468.0254 - 361s/epoch - 4ms/step\n",
      "Epoch 29/75\n",
      "88641/88641 - 364s - loss: 5479.3604 - val_loss: 9324.0596 - 364s/epoch - 4ms/step\n",
      "Epoch 30/75\n",
      "88641/88641 - 363s - loss: 5500.3945 - val_loss: 9331.7617 - 363s/epoch - 4ms/step\n",
      "Epoch 31/75\n",
      "88641/88641 - 363s - loss: 5469.4771 - val_loss: 9461.7695 - 363s/epoch - 4ms/step\n",
      "Epoch 32/75\n",
      "88641/88641 - 366s - loss: 5463.7212 - val_loss: 9105.4082 - 366s/epoch - 4ms/step\n",
      "Epoch 33/75\n",
      "88641/88641 - 361s - loss: 5449.1528 - val_loss: 9682.0381 - 361s/epoch - 4ms/step\n",
      "Epoch 34/75\n",
      "88641/88641 - 359s - loss: 5433.9780 - val_loss: 8987.5303 - 359s/epoch - 4ms/step\n",
      "Epoch 35/75\n",
      "88641/88641 - 374s - loss: 5428.2437 - val_loss: 9568.7549 - 374s/epoch - 4ms/step\n",
      "Epoch 36/75\n",
      "88641/88641 - 371s - loss: 5391.8086 - val_loss: 10452.8369 - 371s/epoch - 4ms/step\n",
      "Epoch 37/75\n",
      "88641/88641 - 366s - loss: 5391.7607 - val_loss: 9488.5625 - 366s/epoch - 4ms/step\n",
      "Epoch 38/75\n",
      "88641/88641 - 364s - loss: 5387.7241 - val_loss: 9098.9404 - 364s/epoch - 4ms/step\n",
      "Epoch 39/75\n",
      "88641/88641 - 365s - loss: 5374.9360 - val_loss: 10176.7861 - 365s/epoch - 4ms/step\n",
      "Epoch 40/75\n",
      "88641/88641 - 366s - loss: 5371.3706 - val_loss: 9178.9365 - 366s/epoch - 4ms/step\n",
      "Epoch 41/75\n",
      "88641/88641 - 353s - loss: 5357.4390 - val_loss: 9322.2256 - 353s/epoch - 4ms/step\n",
      "Epoch 42/75\n",
      "88641/88641 - 362s - loss: 5353.8706 - val_loss: 9032.0869 - 362s/epoch - 4ms/step\n",
      "Epoch 43/75\n",
      "88641/88641 - 365s - loss: 5338.1489 - val_loss: 9073.8799 - 365s/epoch - 4ms/step\n",
      "Epoch 44/75\n",
      "88641/88641 - 365s - loss: 5329.9087 - val_loss: 10129.3262 - 365s/epoch - 4ms/step\n",
      "Epoch 45/75\n",
      "88641/88641 - 366s - loss: 5389.7686 - val_loss: 9158.7627 - 366s/epoch - 4ms/step\n",
      "Epoch 46/75\n",
      "88641/88641 - 365s - loss: 5357.3638 - val_loss: 8908.9775 - 365s/epoch - 4ms/step\n",
      "Epoch 47/75\n",
      "88641/88641 - 369s - loss: 5335.9355 - val_loss: 10135.7227 - 369s/epoch - 4ms/step\n",
      "Epoch 48/75\n",
      "88641/88641 - 366s - loss: 5351.1104 - val_loss: 9201.1709 - 366s/epoch - 4ms/step\n",
      "Epoch 49/75\n",
      "88641/88641 - 346s - loss: 5324.5352 - val_loss: 9585.5664 - 346s/epoch - 4ms/step\n",
      "Epoch 50/75\n",
      "88641/88641 - 365s - loss: 5344.2007 - val_loss: 9298.0986 - 365s/epoch - 4ms/step\n",
      "Epoch 51/75\n",
      "88641/88641 - 365s - loss: 5413.5078 - val_loss: 9453.0547 - 365s/epoch - 4ms/step\n",
      "Epoch 52/75\n",
      "88641/88641 - 364s - loss: 5379.7944 - val_loss: 9123.4834 - 364s/epoch - 4ms/step\n",
      "Epoch 53/75\n",
      "88641/88641 - 366s - loss: 5305.1406 - val_loss: 9363.9385 - 366s/epoch - 4ms/step\n",
      "Epoch 54/75\n",
      "88641/88641 - 364s - loss: 5371.3486 - val_loss: 9362.6875 - 364s/epoch - 4ms/step\n",
      "Epoch 55/75\n",
      "88641/88641 - 365s - loss: 5556.6177 - val_loss: 9049.0723 - 365s/epoch - 4ms/step\n",
      "Epoch 56/75\n",
      "88641/88641 - 356s - loss: 6094.2314 - val_loss: 9374.2324 - 356s/epoch - 4ms/step\n",
      "Epoch 57/75\n",
      "88641/88641 - 357s - loss: 6547.0620 - val_loss: 9085.1846 - 357s/epoch - 4ms/step\n",
      "Epoch 58/75\n",
      "88641/88641 - 366s - loss: 6358.7534 - val_loss: 9844.1074 - 366s/epoch - 4ms/step\n",
      "Epoch 59/75\n",
      "88641/88641 - 364s - loss: 5694.4883 - val_loss: 9096.2949 - 364s/epoch - 4ms/step\n",
      "Epoch 60/75\n",
      "88641/88641 - 370s - loss: 5631.3262 - val_loss: 9570.2988 - 370s/epoch - 4ms/step\n",
      "Epoch 61/75\n",
      "88641/88641 - 365s - loss: 5382.6045 - val_loss: 8868.7461 - 365s/epoch - 4ms/step\n",
      "Epoch 62/75\n",
      "88641/88641 - 367s - loss: 5305.8276 - val_loss: 9624.9062 - 367s/epoch - 4ms/step\n",
      "Epoch 63/75\n",
      "88641/88641 - 368s - loss: 5353.5015 - val_loss: 8901.5342 - 368s/epoch - 4ms/step\n",
      "Epoch 64/75\n",
      "88641/88641 - 350s - loss: 5285.0356 - val_loss: 10705.2949 - 350s/epoch - 4ms/step\n",
      "Epoch 65/75\n",
      "88641/88641 - 361s - loss: 5458.3359 - val_loss: 9803.1680 - 361s/epoch - 4ms/step\n",
      "Epoch 66/75\n",
      "88641/88641 - 367s - loss: 6180.5132 - val_loss: 10038.8037 - 367s/epoch - 4ms/step\n",
      "Epoch 67/75\n",
      "88641/88641 - 364s - loss: 5363.7310 - val_loss: 9374.0898 - 364s/epoch - 4ms/step\n",
      "Epoch 68/75\n",
      "88641/88641 - 365s - loss: 5650.3169 - val_loss: 9771.5850 - 365s/epoch - 4ms/step\n",
      "Epoch 69/75\n",
      "88641/88641 - 363s - loss: 5350.7798 - val_loss: 9353.5674 - 363s/epoch - 4ms/step\n",
      "Epoch 70/75\n",
      "88641/88641 - 366s - loss: 5289.0840 - val_loss: 8699.0176 - 366s/epoch - 4ms/step\n",
      "Epoch 71/75\n",
      "88641/88641 - 366s - loss: 5345.6685 - val_loss: 10122.0215 - 366s/epoch - 4ms/step\n",
      "Epoch 72/75\n",
      "88641/88641 - 352s - loss: 5508.1538 - val_loss: 9417.9014 - 352s/epoch - 4ms/step\n",
      "Epoch 73/75\n",
      "88641/88641 - 365s - loss: 5377.9136 - val_loss: 9129.0869 - 365s/epoch - 4ms/step\n",
      "Epoch 74/75\n",
      "88641/88641 - 366s - loss: 5269.9629 - val_loss: 10008.5898 - 366s/epoch - 4ms/step\n",
      "Epoch 75/75\n",
      "88641/88641 - 364s - loss: 5313.4658 - val_loss: 9415.0039 - 364s/epoch - 4ms/step\n"
     ]
    }
   ],
   "source": [
    "cnn_lstm_history = model_cnn_lstm.fit(X2_train_series_sub, Y_train, \n",
    "                                      validation_data=(X2_valid_series_sub, Y_val), epochs=75, verbose=2)"
   ]
  },
  {
   "cell_type": "code",
   "execution_count": 5,
   "id": "b76e2360",
   "metadata": {},
   "outputs": [
    {
     "name": "stdout",
     "output_type": "stream",
     "text": [
      "88641/88641 [==============================] - 190s 2ms/step\n",
      "29547/29547 [==============================] - 114s 4ms/step\n",
      "Train rmse: 71.17810561593218\n",
      "Validation rmse: 97.03094405496202\n"
     ]
    }
   ],
   "source": [
    "from sklearn.metrics import mean_squared_error\n",
    "\n",
    "cnn_lstm_train_pred = model_cnn_lstm.predict(X2_train_series_sub)\n",
    "cnn_lstm_valid_pred = model_cnn_lstm.predict(X2_valid_series_sub)\n",
    "print('Train rmse:', np.sqrt(mean_squared_error(Y_train, cnn_lstm_train_pred)))\n",
    "print('Validation rmse:', np.sqrt(mean_squared_error(Y_val, cnn_lstm_valid_pred)))"
   ]
  },
  {
   "cell_type": "code",
   "execution_count": 8,
   "id": "5b2581df",
   "metadata": {},
   "outputs": [
    {
     "name": "stdout",
     "output_type": "stream",
     "text": [
      "29547/29547 [==============================] - 115s 4ms/step\n"
     ]
    },
    {
     "data": {
      "text/plain": [
       "(        Predictions  Actuals\n",
       " 0         52.356285    55.13\n",
       " 1         53.018738    55.13\n",
       " 2         54.594421    55.13\n",
       " 3         52.096657    55.13\n",
       " 4         52.692406    55.13\n",
       " ...             ...      ...\n",
       " 945499   691.027405   601.44\n",
       " 945500   755.337097   673.79\n",
       " 945501  1067.964233   999.36\n",
       " 945502  1173.469849  1100.89\n",
       " 945503  1218.335327  1181.49\n",
       " \n",
       " [945504 rows x 2 columns],\n",
       " 12123.772592934696)"
      ]
     },
     "execution_count": 8,
     "metadata": {},
     "output_type": "execute_result"
    },
    {
     "data": {
      "image/png": "[encoded data removed]",
      "text/plain": [
       "<Figure size 640x480 with 1 Axes>"
      ]
     },
     "metadata": {},
     "output_type": "display_data"
    }
   ],
   "source": [
    "def plot_predictions1(model, X, y, start=0, end=100):\n",
    "    predictions = model_cnn_lstm.predict(X).flatten()\n",
    "    df = pd.DataFrame(data={'Predictions':predictions, 'Actuals':y})\n",
    "    plt.plot(df['Predictions'][start:end])\n",
    "    plt.plot(df['Actuals'][start:end])\n",
    "    return df, mean_squared_error(y, predictions)\n",
    "\n",
    "X2_test_series_sub = X2_test_series.reshape((X2_test_series.shape[0],subsequences,timesteps,1))\n",
    "plot_predictions1(model_cnn_lstm, X2_test_series_sub, Y_test)"
   ]
  },
  {
   "cell_type": "code",
   "execution_count": null,
   "id": "8ed3c5ff",
   "metadata": {},
   "outputs": [],
   "source": []
  }
 ],
 "metadata": {
  "kernelspec": {
   "display_name": "Python 3 (ipykernel)",
   "language": "python",
   "name": "python3"
  },
  "language_info": {
   "codemirror_mode": {
    "name": "ipython",
    "version": 3
   },
   "file_extension": ".py",
   "mimetype": "text/x-python",
   "name": "python",
   "nbconvert_exporter": "python",
   "pygments_lexer": "ipython3",
   "version": "3.10.9"
  }
 },
 "nbformat": 4,
 "nbformat_minor": 5
}
